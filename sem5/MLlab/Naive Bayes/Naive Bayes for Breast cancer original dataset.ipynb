{
 "cells": [
  {
   "cell_type": "markdown",
   "id": "b575a0ed",
   "metadata": {},
   "source": [
    "# Naive Bayes for Breast cancer original dataset"
   ]
  },
  {
   "cell_type": "code",
   "execution_count": 15,
   "id": "7bb8b14e",
   "metadata": {},
   "outputs": [],
   "source": [
    "import pandas as pd\n",
    "import numpy as np\n",
    "from sklearn.preprocessing import LabelEncoder\n",
    "from sklearn.model_selection import train_test_split\n",
    "from collections import Counter"
   ]
  },
  {
   "cell_type": "code",
   "execution_count": 16,
   "id": "bc56e5a2",
   "metadata": {},
   "outputs": [],
   "source": [
    "def getCols(df):\n",
    "    l = LabelEncoder()\n",
    "    l.fit(df['Class'])\n",
    "    df['Class'] = l.transform(df['Class'])\n",
    "    X = df.drop(['Sample code number', 'Class'], axis=1)\n",
    "    Y = df['Class'].values\n",
    "    return X,Y"
   ]
  },
  {
   "cell_type": "code",
   "execution_count": 17,
   "id": "0e71fade",
   "metadata": {},
   "outputs": [
    {
     "name": "stdout",
     "output_type": "stream",
     "text": [
      "       Sample code number  Clump Thickness  Uniformity of Cell Size  \\\n",
      "count        6.990000e+02       699.000000               699.000000   \n",
      "mean         1.071704e+06         4.417740                 3.134478   \n",
      "std          6.170957e+05         2.815741                 3.051459   \n",
      "min          6.163400e+04         1.000000                 1.000000   \n",
      "25%          8.706885e+05         2.000000                 1.000000   \n",
      "50%          1.171710e+06         4.000000                 1.000000   \n",
      "75%          1.238298e+06         6.000000                 5.000000   \n",
      "max          1.345435e+07        10.000000                10.000000   \n",
      "\n",
      "       Uniformity of Cell Shape  Marginal Adhesion  \\\n",
      "count                699.000000         699.000000   \n",
      "mean                   3.207439           2.806867   \n",
      "std                    2.971913           2.855379   \n",
      "min                    1.000000           1.000000   \n",
      "25%                    1.000000           1.000000   \n",
      "50%                    1.000000           1.000000   \n",
      "75%                    5.000000           4.000000   \n",
      "max                   10.000000          10.000000   \n",
      "\n",
      "       Single Epithelial Cell Size  Bland Chromatin  Normal Nucleoli  \\\n",
      "count                   699.000000       699.000000       699.000000   \n",
      "mean                      3.216023         3.437768         2.866953   \n",
      "std                       2.214300         2.438364         3.053634   \n",
      "min                       1.000000         1.000000         1.000000   \n",
      "25%                       2.000000         2.000000         1.000000   \n",
      "50%                       2.000000         3.000000         1.000000   \n",
      "75%                       4.000000         5.000000         4.000000   \n",
      "max                      10.000000        10.000000        10.000000   \n",
      "\n",
      "          Mitoses       Class  \n",
      "count  699.000000  699.000000  \n",
      "mean     1.589413    2.689557  \n",
      "std      1.715078    0.951273  \n",
      "min      1.000000    2.000000  \n",
      "25%      1.000000    2.000000  \n",
      "50%      1.000000    2.000000  \n",
      "75%      1.000000    4.000000  \n",
      "max     10.000000    4.000000  \n"
     ]
    }
   ],
   "source": [
    "df = pd.read_csv(\"bcoriginal.csv\")\n",
    "print(df.describe())\n",
    "X,Y=getCols(df)\n",
    "X_train, X_test, Y_train, Y_test = train_test_split(X, Y, test_size=0.2, random_state=0)"
   ]
  },
  {
   "cell_type": "code",
   "execution_count": 18,
   "id": "e8a62eeb",
   "metadata": {},
   "outputs": [
    {
     "name": "stdout",
     "output_type": "stream",
     "text": [
      "373   372\n"
     ]
    }
   ],
   "source": [
    "def prior_probability_count(Y):\n",
    "    c1=c2=0\n",
    "    for i in Y_train:\n",
    "        if i==0:\n",
    "            c1+=1\n",
    "        else:\n",
    "            c2+=2\n",
    "    return c1,c2\n",
    "\n",
    "c1,c2=prior_probability_count(Y_train)\n",
    "print(c1,\" \",c2)"
   ]
  },
  {
   "cell_type": "code",
   "execution_count": 26,
   "id": "149a12a6",
   "metadata": {},
   "outputs": [
    {
     "name": "stdout",
     "output_type": "stream",
     "text": [
      "\n",
      "CPT for Clump Thickness :\n",
      "{1: [120, 3], 2: [30, 3], 3: [81, 9], 4: [53, 9], 5: [72, 38], 6: [12, 14], 7: [1, 17], 8: [4, 30], 9: [0, 10], 10: [0, 53]}\n",
      "\n",
      "CPT for Uniformity of Cell Size :\n",
      "{1: [315, 2], 2: [25, 7], 3: [23, 20], 4: [6, 25], 5: [0, 21], 6: [1, 19], 7: [1, 12], 8: [1, 20], 9: [1, 4], 10: [0, 56]}\n",
      "\n",
      "CPT for Uniformity of Cell Shape :\n",
      "{1: [291, 1], 2: [36, 5], 3: [30, 20], 4: [9, 28], 5: [3, 25], 6: [1, 16], 7: [2, 17], 8: [1, 17], 9: [0, 7], 10: [0, 50]}\n",
      "\n",
      "CPT for Marginal Adhesion :\n",
      "{1: [307, 28], 2: [29, 11], 3: [25, 17], 4: [5, 25], 5: [3, 14], 6: [4, 13], 7: [0, 8], 8: [0, 21], 9: [0, 4], 10: [0, 45]}\n",
      "\n",
      "CPT for Single Epithelial Cell Size :\n",
      "{1: [38, 0], 2: [294, 18], 3: [25, 33], 4: [5, 27], 5: [5, 28], 6: [1, 31], 7: [2, 8], 8: [2, 19], 9: [0, 2], 10: [1, 20]}\n",
      "\n",
      "CPT for Bare Nuclei :\n",
      "{'10': [2, 100], '7': [1, 5], '3': [12, 12], '2': [17, 8], '5': [8, 14], '9': [0, 6], '6': [0, 4], '1': [314, 14], '8': [2, 12], '?': [11, 2], '4': [6, 9]}\n",
      "\n",
      "CPT for Bland Chromatin :\n",
      "{1: [122, 2], 2: [124, 4], 3: [110, 31], 4: [7, 25], 5: [4, 22], 6: [1, 8], 7: [5, 51], 8: [0, 19], 9: [0, 8], 10: [0, 16]}\n",
      "\n",
      "CPT for Normal Nucleoli :\n",
      "{1: [325, 30], 2: [26, 5], 3: [9, 22], 4: [1, 16], 5: [2, 14], 6: [4, 12], 7: [2, 7], 8: [3, 16], 9: [1, 12], 10: [0, 52]}\n",
      "\n",
      "CPT for Mitoses :\n",
      "{1: [366, 110], 2: [4, 14], 3: [2, 24], 4: [0, 11], 5: [0, 3], 6: [0, 2], 7: [1, 8], 8: [0, 3], 10: [0, 11]}\n"
     ]
    }
   ],
   "source": [
    "def construct_cpt(X,Y):\n",
    "    unique=list(set(X))\n",
    "    X=list(X)\n",
    "    cpt={}\n",
    "    for i in unique:\n",
    "        l=[0,0]\n",
    "        for j in range(len(X)):\n",
    "            if i==X[j]:\n",
    "                l[Y[j]]+=1\n",
    "            cpt[i]=l\n",
    "    print(cpt)\n",
    "    return cpt\n",
    "\n",
    "ind=X_train.columns\n",
    "CPT={}\n",
    "for i in ind:\n",
    "    print(\"\\nCPT for\",i,\":\")\n",
    "    CPT[i]=construct_cpt(X_train[i], Y_train)"
   ]
  },
  {
   "cell_type": "code",
   "execution_count": null,
   "id": "d33d77f8",
   "metadata": {},
   "outputs": [],
   "source": []
  }
 ],
 "metadata": {
  "kernelspec": {
   "display_name": "Python 3 (ipykernel)",
   "language": "python",
   "name": "python3"
  },
  "language_info": {
   "codemirror_mode": {
    "name": "ipython",
    "version": 3
   },
   "file_extension": ".py",
   "mimetype": "text/x-python",
   "name": "python",
   "nbconvert_exporter": "python",
   "pygments_lexer": "ipython3",
   "version": "3.9.12"
  }
 },
 "nbformat": 4,
 "nbformat_minor": 5
}
